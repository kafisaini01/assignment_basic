{
 "cells": [
  {
   "cell_type": "code",
   "execution_count": 65,
   "id": "ccafdc7a-3b34-4675-ab3c-ade9a511a988",
   "metadata": {},
   "outputs": [
    {
     "name": "stdout",
     "output_type": "stream",
     "text": [
      "b is grater \n"
     ]
    }
   ],
   "source": [
    "a=5\n",
    "b=15\n",
    "if a>b:\n",
    "    print(\"a is grater \")\n",
    "else:\n",
    "    print(\"b is grater \")"
   ]
  },
  {
   "cell_type": "code",
   "execution_count": 81,
   "id": "ba8a0f24-aedf-46e0-ac81-24b86433e4a0",
   "metadata": {},
   "outputs": [
    {
     "name": "stdout",
     "output_type": "stream",
     "text": [
      "b is loweer\n"
     ]
    }
   ],
   "source": [
    "a=150\n",
    "b=100\n",
    "if a<b:\n",
    "    print(\"a is lower\")\n",
    "else:\n",
    "    print(\"b is loweer\")\n",
    "\n"
   ]
  },
  {
   "cell_type": "code",
   "execution_count": 45,
   "id": "bc70d2c7-38f0-4781-a04c-05a8d83e227b",
   "metadata": {},
   "outputs": [
    {
     "data": {
      "text/plain": [
       "'kafi2'"
      ]
     },
     "execution_count": 45,
     "metadata": {},
     "output_type": "execute_result"
    }
   ],
   "source": [
    "str=\"kafi\"\n",
    "str+\"2\""
   ]
  },
  {
   "cell_type": "code",
   "execution_count": 49,
   "id": "25f3ead5-c09e-452a-ae83-4160c07b45d1",
   "metadata": {},
   "outputs": [
    {
     "data": {
      "text/plain": [
       "'10020'"
      ]
     },
     "execution_count": 49,
     "metadata": {},
     "output_type": "execute_result"
    }
   ],
   "source": [
    "str=\"100\"\n",
    "str+\"20\""
   ]
  },
  {
   "cell_type": "code",
   "execution_count": 53,
   "id": "1dd8a5ad-631d-477c-bbe8-06c865afe8a5",
   "metadata": {},
   "outputs": [
    {
     "name": "stdout",
     "output_type": "stream",
     "text": [
      "abcd5\n"
     ]
    }
   ],
   "source": [
    "print(\"abcd\"+\"5\")"
   ]
  },
  {
   "cell_type": "code",
   "execution_count": 57,
   "id": "154d1b4f-d963-4035-aa15-3449ec842c2e",
   "metadata": {},
   "outputs": [
    {
     "name": "stdout",
     "output_type": "stream",
     "text": [
      "123+100\n"
     ]
    }
   ],
   "source": [
    "print(\"123+100\")"
   ]
  },
  {
   "cell_type": "code",
   "execution_count": 89,
   "id": "274b3823-5256-446d-9ae5-34e57f9e38c6",
   "metadata": {},
   "outputs": [
    {
     "name": "stdin",
     "output_type": "stream",
     "text": [
      "enter your number: -2\n"
     ]
    },
    {
     "name": "stdout",
     "output_type": "stream",
     "text": [
      "the number is negative.\n"
     ]
    }
   ],
   "source": [
    "num=int(input(\"enter your number:\"))\n",
    "if num > 0:\n",
    "    print(\"the number is positive.\")\n",
    "else:\n",
    "    print(\"the number is negative.\")\n",
    "    "
   ]
  },
  {
   "cell_type": "code",
   "execution_count": 38,
   "id": "8860fcc3-fe3c-4aaf-a84f-60582f781737",
   "metadata": {},
   "outputs": [
    {
     "name": "stdin",
     "output_type": "stream",
     "text": [
      "enter your username kafi\n",
      "enter your password: 432156\n"
     ]
    },
    {
     "name": "stdout",
     "output_type": "stream",
     "text": [
      "password is wrong\n",
      "Thank you\n"
     ]
    }
   ],
   "source": [
    "database_username=\"kafi\"\n",
    "database_password=\"12345678\"\n",
    "user_input=input(\"enter your username\")\n",
    "if(user_input==database_username):\n",
    "    password=input(\"enter your password:\")\n",
    "    if(password==database_password):\n",
    "           print(\"login sucssefull\")\n",
    "    else:\n",
    "        print(\"password is wrong\")\n",
    "else:\n",
    "    print(\" no found username\")\n",
    "print(\"Thank you\")"
   ]
  },
  {
   "cell_type": "code",
   "execution_count": 46,
   "id": "e6bb5965-1619-4f5a-90af-ef907beb455e",
   "metadata": {},
   "outputs": [
    {
     "name": "stdin",
     "output_type": "stream",
     "text": [
      "enter your username kafi\n",
      "enter your password: 12345678\n",
      "enter your email: satish123\n"
     ]
    },
    {
     "name": "stdout",
     "output_type": "stream",
     "text": [
      "email is no found\n",
      "Thank you\n"
     ]
    }
   ],
   "source": [
    "database_username=\"kafi\"\n",
    "database_password=\"12345678\"\n",
    "database_email=\"satishsaini7294@gmail.com\"\n",
    "user_input=input(\"enter your username\")\n",
    "if(user_input==database_username):\n",
    "    password=input(\"enter your password:\")\n",
    "    if(password==database_password):\n",
    "        email=input(\"enter your email:\")\n",
    "        if(email==database_email):\n",
    "           print(\"login sucssefull\")\n",
    "        else:\n",
    "            print(\"email is no found\")\n",
    "    else:\n",
    "        print(\"password is wrong\")\n",
    "else:\n",
    "    print(\" no found username\")\n",
    "print(\"Thank you\")"
   ]
  },
  {
   "cell_type": "code",
   "execution_count": 25,
   "id": "0d8c6ba7-18d8-484e-ab02-72922e172bdd",
   "metadata": {},
   "outputs": [
    {
     "name": "stdout",
     "output_type": "stream",
     "text": [
      "8x1 = 8\n",
      "8x2 = 16\n",
      "8x3 = 24\n",
      "8x4 = 32\n",
      "8x5 = 40\n",
      "8x6 = 48\n",
      "8x7 = 56\n",
      "8x8 = 64\n",
      "8x9 = 72\n",
      "8x10 = 80\n"
     ]
    }
   ],
   "source": [
    "import tkinter as tk\n",
    "from tkinter import messagebox\n",
    "\n",
    "root=tk.Tk()\n",
    "root.title(\"multiplication of table\")\n",
    "root.geometry(\"250x150\")\n",
    "for i in range(1,11):\n",
    "    result=8*i\n",
    "    print(f\"8x{i} = {result}\")\n",
    "\n",
    "label=tk.Label(root,text=\"ENTER SOMETHING\")\n",
    "label.grid(row=0,column=0)\n",
    "\n",
    "entry=tk.Entry(root,)\n",
    "entry.grid(row=0,column=1)\n",
    "\n",
    "button=tk.Button(root,text=\"submit\",background=\"powderblue\")\n",
    "button.grid(row=1,column=1)\n",
    "\n",
    "root.mainloop()"
   ]
  },
  {
   "cell_type": "code",
   "execution_count": 23,
   "id": "a7c3df79-c7bf-4248-a13a-405c87fe4fb7",
   "metadata": {},
   "outputs": [
    {
     "name": "stdin",
     "output_type": "stream",
     "text": [
      "enter your age 18\n"
     ]
    },
    {
     "name": "stdout",
     "output_type": "stream",
     "text": [
      "you are eligiable to vote\n"
     ]
    }
   ],
   "source": [
    "num=int(input(\"enter your age\"))\n",
    "if num<=18:\n",
    "        print(\"you are eligiable to vote\")\n",
    "else:\n",
    "    print(\"you are not eligiable to vote\")\n",
    "        "
   ]
  },
  {
   "cell_type": "code",
   "execution_count": 37,
   "id": "9e9f27ca-e42a-406e-8ac9-2b8a3ce0153f",
   "metadata": {},
   "outputs": [
    {
     "name": "stdin",
     "output_type": "stream",
     "text": [
      "enter your score 99\n"
     ]
    },
    {
     "name": "stdout",
     "output_type": "stream",
     "text": [
      "Grade A\n"
     ]
    }
   ],
   "source": [
    "score=int(input(\"enter your score\"))\n",
    "if score>=90:\n",
    "    print(\"Grade A\")\n",
    "elif score>80:\n",
    "    print(\"Grade B\")\n",
    "elif score>70:\n",
    "    print(\"Grade C\")\n",
    "elif score>60:\n",
    "    print(\"Grade D\")\n",
    "else:\n",
    "    print(\"Grade E\")"
   ]
  },
  {
   "cell_type": "code",
   "execution_count": 45,
   "id": "8bed6233-2051-4651-9dc5-b6b76b3649a3",
   "metadata": {},
   "outputs": [
    {
     "name": "stdin",
     "output_type": "stream",
     "text": [
      "enter your choice operator 1\n",
      "ENTER A 10\n",
      "ENTER B 10\n"
     ]
    },
    {
     "name": "stdout",
     "output_type": "stream",
     "text": [
      "sum= 20\n"
     ]
    }
   ],
   "source": [
    "num=int(input(\"enter your choice operator\"))\n",
    "if num==1:\n",
    "    a=int(input(\"ENTER A\"))\n",
    "    b=int(input(\"ENTER B\")) \n",
    "    c=a+b\n",
    "    print(\"sum=\",c)\n",
    "    if num==2:\n",
    "        a=int(input(\"ENTER A\"))\n",
    "        b=int(input(\"ENTER B\"))\n",
    "        c=a-b\n",
    "        print(\"sub=\",c)\n",
    "        if num==3:\n",
    "            a=int(input(\"ENTER A\"))\n",
    "            b=int(input(\"ENTER B\"))\n",
    "            c=a*b\n",
    "            print(\"mul=\",c)\n",
    "        else:\n",
    "            print(\"invalid operator\")"
   ]
  },
  {
   "cell_type": "code",
   "execution_count": 51,
   "id": "34e6f3eb-3f15-4ccf-91a2-a3abe6fb609b",
   "metadata": {},
   "outputs": [
    {
     "name": "stdin",
     "output_type": "stream",
     "text": [
      "enter your year: 2024\n"
     ]
    },
    {
     "name": "stdout",
     "output_type": "stream",
     "text": [
      "YES! This year is leap year\n"
     ]
    }
   ],
   "source": [
    "year=int (input(\"enter your year:\"))\n",
    "if ((year % 400 == 0) or\n",
    "    (year% 100 != 0) and\n",
    "    (year%4==0)):\n",
    "    print(\"YES! This year is leap year\");\n",
    "else:\n",
    "    print(\"This is not leap year\")\n",
    "    print(year)    "
   ]
  },
  {
   "cell_type": "code",
   "execution_count": 71,
   "id": "86b70384-85b2-4fd0-9261-a2b8d8cf3f71",
   "metadata": {},
   "outputs": [
    {
     "name": "stdout",
     "output_type": "stream",
     "text": [
      "1,2,3,4,5\n"
     ]
    }
   ],
   "source": [
    "list=[\"1,2,3,4,5\"\n",
    "for item in list:\n",
    "    print(item)"
   ]
  },
  {
   "cell_type": "code",
   "execution_count": 69,
   "id": "630f918b-a3bd-4483-8a12-b36c31e97fb0",
   "metadata": {},
   "outputs": [
    {
     "name": "stdout",
     "output_type": "stream",
     "text": [
      "k\n",
      "a\n",
      "f\n",
      "i\n",
      "s\n",
      "a\n",
      "i\n",
      "n\n",
      "i\n"
     ]
    }
   ],
   "source": [
    "l=\"kafisaini\"\n",
    "for item in l:\n",
    "    print(item)"
   ]
  },
  {
   "cell_type": "code",
   "execution_count": 75,
   "id": "19d22ac0-c5b2-41cf-97d7-5a2fe314ab1e",
   "metadata": {},
   "outputs": [
    {
     "name": "stdout",
     "output_type": "stream",
     "text": [
      "kaphisaini\n",
      "nehasaini\n",
      "nishusaini\n"
     ]
    }
   ],
   "source": [
    "co1=[\"kaphisaini\",\"nehasaini\",\"nishusaini\"]\n",
    "for item in co1:\n",
    "    print(item)"
   ]
  },
  {
   "cell_type": "code",
   "execution_count": 81,
   "id": "bf3e81b4-2969-4b27-9b20-c8dc0d5e421b",
   "metadata": {},
   "outputs": [
    {
     "name": "stdout",
     "output_type": "stream",
     "text": [
      "5\n"
     ]
    }
   ],
   "source": [
    "string=\"kafisaini\"\n",
    "vowels=\"aioueAIOUE\"\n",
    "count=sum(string.count(vowel)for vowel in vowels)\n",
    "print(count)"
   ]
  },
  {
   "cell_type": "code",
   "execution_count": null,
   "id": "f33d2263-3347-48de-ad6e-6fae3dbe5d50",
   "metadata": {},
   "outputs": [],
   "source": []
  }
 ],
 "metadata": {
  "kernelspec": {
   "display_name": "Python 3 (ipykernel)",
   "language": "python",
   "name": "python3"
  },
  "language_info": {
   "codemirror_mode": {
    "name": "ipython",
    "version": 3
   },
   "file_extension": ".py",
   "mimetype": "text/x-python",
   "name": "python",
   "nbconvert_exporter": "python",
   "pygments_lexer": "ipython3",
   "version": "3.12.4"
  }
 },
 "nbformat": 4,
 "nbformat_minor": 5
}
