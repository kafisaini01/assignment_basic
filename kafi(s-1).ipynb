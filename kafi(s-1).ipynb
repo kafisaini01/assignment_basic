{
 "cells": [
  {
   "cell_type": "markdown",
   "id": "1e18cead-8f75-4925-8d3a-f4152d709f96",
   "metadata": {},
   "source": [
    "# <center>Tkinter_Software_Input</center>"
   ]
  },
  {
   "cell_type": "code",
   "execution_count": 11,
   "id": "58ad2ac3-4baa-4503-8538-c76dc5dd6130",
   "metadata": {},
   "outputs": [],
   "source": [
    "import tkinter as tk\n",
    "from tkinter import messagebox\n",
    "def input():\n",
    "    user_input = entry.get()\n",
    "    messagebox.showinfo(\"INPUT\",f\"you entered :{user_input}\")\n",
    "    root = tk.Tk()\n",
    "    root.geometery(\"280*100\")\n",
    "    root.title(\"INPUT DISPLAY\")\n",
    "    label = tk.label(root,text=\"ENTER SOMETHING\")\n",
    "    label.grid(row=0,column=0)\n",
    "\n",
    "    entry = tk.entry(root,width=\"25\")\n",
    "    entry. grid(row=0,column=1)\n",
    "    button = tk.button(root,text=\"SHOW INPUT\", background = \"powerblue\",command=input)\n",
    "    button. grid(row=2,column=1)\n",
    "    root.mainloop()"
   ]
  },
  {
   "cell_type": "code",
   "execution_count": 65,
   "id": "ccafdc7a-3b34-4675-ab3c-ade9a511a988",
   "metadata": {},
   "outputs": [
    {
     "name": "stdout",
     "output_type": "stream",
     "text": [
      "b is grater \n"
     ]
    }
   ],
   "source": [
    "a=5\n",
    "b=15\n",
    "if a>b:\n",
    "    print(\"a is grater \")\n",
    "else:\n",
    "    print(\"b is grater \")"
   ]
  },
  {
   "cell_type": "code",
   "execution_count": 81,
   "id": "ba8a0f24-aedf-46e0-ac81-24b86433e4a0",
   "metadata": {},
   "outputs": [
    {
     "name": "stdout",
     "output_type": "stream",
     "text": [
      "b is loweer\n"
     ]
    }
   ],
   "source": [
    "a=150\n",
    "b=100\n",
    "if a<b:\n",
    "    print(\"a is lower\")\n",
    "else:\n",
    "    print(\"b is loweer\")\n",
    "\n"
   ]
  },
  {
   "cell_type": "code",
   "execution_count": 63,
   "id": "1764da32-eb8c-4b24-86ce-7deac74e87df",
   "metadata": {},
   "outputs": [
    {
     "ename": "SyntaxError",
     "evalue": "invalid syntax (2454031366.py, line 10)",
     "output_type": "error",
     "traceback": [
      "\u001b[1;36m  Cell \u001b[1;32mIn[63], line 10\u001b[1;36m\u001b[0m\n\u001b[1;33m    else:\u001b[0m\n\u001b[1;37m    ^\u001b[0m\n\u001b[1;31mSyntaxError\u001b[0m\u001b[1;31m:\u001b[0m invalid syntax\n"
     ]
    }
   ],
   "source": [
    "database_username=\"kafi\"\n",
    "database_password= 1234\n",
    "user_input= input(\"enter your username:\")\n",
    "if(user_input == database_username):\n",
    "    password= input (\"enter your password\")\n",
    "    if(password== database_password):\n",
    "        print(\"login successfull\")\n",
    "    else:\n",
    "        print(\"password is wrong\")\n",
    "    else:\n",
    "    print(\"no user name is  found\")\n",
    "print(\"Thank you\")\n",
    "\n"
   ]
  },
  {
   "cell_type": "code",
   "execution_count": 45,
   "id": "bc70d2c7-38f0-4781-a04c-05a8d83e227b",
   "metadata": {},
   "outputs": [
    {
     "data": {
      "text/plain": [
       "'kafi2'"
      ]
     },
     "execution_count": 45,
     "metadata": {},
     "output_type": "execute_result"
    }
   ],
   "source": [
    "str=\"kafi\"\n",
    "str+\"2\""
   ]
  },
  {
   "cell_type": "code",
   "execution_count": 49,
   "id": "25f3ead5-c09e-452a-ae83-4160c07b45d1",
   "metadata": {},
   "outputs": [
    {
     "data": {
      "text/plain": [
       "'10020'"
      ]
     },
     "execution_count": 49,
     "metadata": {},
     "output_type": "execute_result"
    }
   ],
   "source": [
    "str=\"100\"\n",
    "str+\"20\""
   ]
  },
  {
   "cell_type": "code",
   "execution_count": 53,
   "id": "1dd8a5ad-631d-477c-bbe8-06c865afe8a5",
   "metadata": {},
   "outputs": [
    {
     "name": "stdout",
     "output_type": "stream",
     "text": [
      "abcd5\n"
     ]
    }
   ],
   "source": [
    "print(\"abcd\"+\"5\")"
   ]
  },
  {
   "cell_type": "code",
   "execution_count": 57,
   "id": "154d1b4f-d963-4035-aa15-3449ec842c2e",
   "metadata": {},
   "outputs": [
    {
     "name": "stdout",
     "output_type": "stream",
     "text": [
      "123+100\n"
     ]
    }
   ],
   "source": [
    "print(\"123+100\")"
   ]
  },
  {
   "cell_type": "code",
   "execution_count": null,
   "id": "274b3823-5256-446d-9ae5-34e57f9e38c6",
   "metadata": {},
   "outputs": [],
   "source": []
  }
 ],
 "metadata": {
  "kernelspec": {
   "display_name": "Python 3 (ipykernel)",
   "language": "python",
   "name": "python3"
  },
  "language_info": {
   "codemirror_mode": {
    "name": "ipython",
    "version": 3
   },
   "file_extension": ".py",
   "mimetype": "text/x-python",
   "name": "python",
   "nbconvert_exporter": "python",
   "pygments_lexer": "ipython3",
   "version": "3.12.4"
  }
 },
 "nbformat": 4,
 "nbformat_minor": 5
}
